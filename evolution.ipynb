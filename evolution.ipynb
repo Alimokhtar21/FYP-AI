{
  "nbformat": 4,
  "nbformat_minor": 0,
  "metadata": {
    "colab": {
      "name": "evolution.ipynb",
      "version": "0.3.2",
      "provenance": [],
      "toc_visible": true
    },
    "kernelspec": {
      "name": "python3",
      "display_name": "Python 3"
    },
    "accelerator": "GPU"
  },
  "cells": [
    {
      "metadata": {
        "id": "10u32iHqoiFS",
        "colab_type": "text"
      },
      "cell_type": "markdown",
      "source": [
        "# Evolution Algorithm"
      ]
    },
    {
      "metadata": {
        "id": "rSYHjesZ7zwL",
        "colab_type": "code",
        "colab": {}
      },
      "cell_type": "code",
      "source": [
        "# setup Google Colaboratory\n",
        "!mkdir models\n",
        "!mkdir data\n",
        "!mkdir data/stock_prices\n",
        "!mkdir evolution_model_graphs"
      ],
      "execution_count": 0,
      "outputs": []
    },
    {
      "metadata": {
        "id": "ND9zF0qwor7A",
        "colab_type": "text"
      },
      "cell_type": "markdown",
      "source": [
        "## Import dependencies"
      ]
    },
    {
      "metadata": {
        "id": "Vsm09yqq7BRP",
        "colab_type": "code",
        "colab": {}
      },
      "cell_type": "code",
      "source": [
        "import numpy as np\n",
        "from sklearn.model_selection import train_test_split\n",
        "from os import path"
      ],
      "execution_count": 0,
      "outputs": []
    },
    {
      "metadata": {
        "id": "xl_VY9ib7BRT",
        "colab_type": "code",
        "colab": {}
      },
      "cell_type": "code",
      "source": [
        "from build_dataset import build_dataset"
      ],
      "execution_count": 0,
      "outputs": []
    },
    {
      "metadata": {
        "id": "sgRhogiS7BRZ",
        "colab_type": "code",
        "outputId": "346679e3-5e0d-4b1e-9611-c9865087fd75",
        "colab": {
          "base_uri": "https://localhost:8080/",
          "height": 34
        }
      },
      "cell_type": "code",
      "source": [
        "from models.dnn_regression import DenseNeuralNetwork"
      ],
      "execution_count": 0,
      "outputs": [
        {
          "output_type": "stream",
          "text": [
            "Using TensorFlow backend.\n"
          ],
          "name": "stderr"
        }
      ]
    },
    {
      "metadata": {
        "id": "t1o4RjWV7BRf",
        "colab_type": "code",
        "colab": {}
      },
      "cell_type": "code",
      "source": [
        "import json\n",
        "from keras.callbacks import TensorBoard\n",
        "from keras.utils import plot_model\n",
        "from hashlib import sha256"
      ],
      "execution_count": 0,
      "outputs": []
    },
    {
      "metadata": {
        "id": "s2_9V9XMo1vO",
        "colab_type": "text"
      },
      "cell_type": "markdown",
      "source": [
        "## Get last run data"
      ]
    },
    {
      "metadata": {
        "id": "1MGLsRIBez9Y",
        "colab_type": "code",
        "colab": {}
      },
      "cell_type": "code",
      "source": [
        "last_run = None\n",
        "if path.isfile(\"last_run.json\"):\n",
        "    with open(\"last_run.json\", \"r\") as last_run_file:\n",
        "        last_run = json.load(last_run_file)"
      ],
      "execution_count": 0,
      "outputs": []
    },
    {
      "metadata": {
        "id": "7VqZrq0Ao9UK",
        "colab_type": "text"
      },
      "cell_type": "markdown",
      "source": [
        "## Initialize models"
      ]
    },
    {
      "metadata": {
        "id": "KnolKvF0v1bg",
        "colab_type": "code",
        "colab": {}
      },
      "cell_type": "code",
      "source": [
        "population = []"
      ],
      "execution_count": 0,
      "outputs": []
    },
    {
      "metadata": {
        "id": "2cT2JzudwbEB",
        "colab_type": "code",
        "colab": {}
      },
      "cell_type": "code",
      "source": [
        "POPULATION_SIZE = 10"
      ],
      "execution_count": 0,
      "outputs": []
    },
    {
      "metadata": {
        "id": "4jcMoglfm6pt",
        "colab_type": "code",
        "outputId": "7ee7a65b-df75-4085-e6cb-331e8f1083d6",
        "colab": {
          "base_uri": "https://localhost:8080/",
          "height": 34
        }
      },
      "cell_type": "code",
      "source": [
        "input_options = {\n",
        "    \"config\": [\n",
        "        {\"type\": \"lookback\", \"n\": 22, \"stock_code\": \"GOOGL\", \"column\": \"adjusted_close\"},\n",
        "        {\"type\": \"moving_avg\", \"n\": 5, \"stock_code\": \"GOOGL\", \"column\": \"adjusted_close\"},\n",
        "        {\"type\": \"moving_avg\", \"n\": 10, \"stock_code\": \"GOOGL\", \"column\": \"adjusted_close\"},\n",
        "        {\"type\": \"moving_avg\", \"n\": 30, \"stock_code\": \"GOOGL\", \"column\": \"adjusted_close\"},\n",
        "        {\"type\": \"moving_avg\", \"n\": 90, \"stock_code\": \"GOOGL\", \"column\": \"adjusted_close\"},\n",
        "        {\"type\": \"moving_avg\", \"n\": 180, \"stock_code\": \"GOOGL\", \"column\": \"adjusted_close\"},\n",
        "        {\"type\": \"moving_avg\", \"n\": 365, \"stock_code\": \"GOOGL\", \"column\": \"adjusted_close\"}\n",
        "    ],\n",
        "    \"stock_codes\": [\"GOOGL\"],\n",
        "    \"stock_code\": \"GOOGL\",\n",
        "    \"column\": \"adjusted_close\"\n",
        "}\n",
        "print(sha256(json.dumps(input_options).encode()).hexdigest())"
      ],
      "execution_count": 0,
      "outputs": [
        {
          "output_type": "stream",
          "text": [
            "6797101d4426f264d5fe3ee949b4b105e6427b7109e8061f24e89512172761f7\n"
          ],
          "name": "stdout"
        }
      ]
    },
    {
      "metadata": {
        "id": "oBvFzVnHm81y",
        "colab_type": "code",
        "colab": {}
      },
      "cell_type": "code",
      "source": [
        "stock_code = \"GOOGL\""
      ],
      "execution_count": 0,
      "outputs": []
    },
    {
      "metadata": {
        "id": "unKNOkcGv7kU",
        "colab_type": "code",
        "colab": {}
      },
      "cell_type": "code",
      "source": [
        "if last_run is not None:\n",
        "    population = [DenseNeuralNetwork(\n",
        "        model[\"model_options\"],\n",
        "        model[\"input_options\"],\n",
        "        model[\"stock_code\"]\n",
        "    ) for model in last_run[\"population\"]]\n",
        "else:\n",
        "    init_model_options = DenseNeuralNetwork.random_model_options(POPULATION_SIZE, \"dense\")\n",
        "    for i in range(POPULATION_SIZE):\n",
        "        population.append(DenseNeuralNetwork(\n",
        "            init_model_options[i],\n",
        "            input_options,\n",
        "            stock_code\n",
        "        ))"
      ],
      "execution_count": 0,
      "outputs": []
    },
    {
      "metadata": {
        "id": "4zf9pgSy7qvq",
        "colab_type": "text"
      },
      "cell_type": "markdown",
      "source": [
        "## Initialize errors"
      ]
    },
    {
      "metadata": {
        "id": "O2c2ptKhwzgt",
        "colab_type": "code",
        "colab": {}
      },
      "cell_type": "code",
      "source": [
        "errors = []\n",
        "error_history = []"
      ],
      "execution_count": 0,
      "outputs": []
    },
    {
      "metadata": {
        "id": "VSaKqj9Kw9RE",
        "colab_type": "code",
        "outputId": "8736587a-f97d-4df9-cf68-127a97f33c1d",
        "colab": {
          "base_uri": "https://localhost:8080/",
          "height": 185
        }
      },
      "cell_type": "code",
      "source": [
        "if last_run is not None:\n",
        "    errors = last_run[\"errors\"]\n",
        "    error_history = last_run[\"error_history\"]\n",
        "else:\n",
        "    for model_idx, model in enumerate(population):\n",
        "        print(\"Initial model {}\".format(model_idx + 1))\n",
        "        \n",
        "        # prepare the data\n",
        "        x, y = build_dataset(model.input_options, model.model_options[\"predict_n\"], True)\n",
        "        # split the data into training set and testing set\n",
        "        x_train, x_test, y_train, y_test = train_test_split(x, y, test_size=0.1)\n",
        "        # train the model\n",
        "        model.train(\n",
        "            x_train,\n",
        "            y_train,\n",
        "            verbose=0,\n",
        "            callbacks=[TensorBoard(log_dir=\"./evolution_tensorboard_logs/initial_{}\".format(model_idx + 1))]\n",
        "        )\n",
        "        # calculate the model error\n",
        "        error = model.model.evaluate(x_test, y_test, verbose=0)\n",
        "        errors.append(error[-1])\n",
        "    error_history = [errors]\n",
        "\n",
        "errors = np.array(errors)\n",
        "error_history = np.array(error_history)"
      ],
      "execution_count": 0,
      "outputs": [
        {
          "output_type": "stream",
          "text": [
            "Initial model 1\n",
            "Initial model 2\n",
            "Initial model 3\n",
            "Initial model 4\n",
            "Initial model 5\n",
            "Initial model 6\n",
            "Initial model 7\n",
            "Initial model 8\n",
            "Initial model 9\n",
            "Initial model 10\n"
          ],
          "name": "stdout"
        }
      ]
    },
    {
      "metadata": {
        "id": "x9PQkMB3pCI0",
        "colab_type": "text"
      },
      "cell_type": "markdown",
      "source": [
        "## Evolution algorithm"
      ]
    },
    {
      "metadata": {
        "id": "NMW7u9K3x_Ak",
        "colab_type": "code",
        "colab": {}
      },
      "cell_type": "code",
      "source": [
        "last_iterations = last_run[\"last_iterations\"] if last_run is not None else 0"
      ],
      "execution_count": 0,
      "outputs": []
    },
    {
      "metadata": {
        "id": "D4zE5cEuxrv-",
        "colab_type": "code",
        "colab": {}
      },
      "cell_type": "code",
      "source": [
        "ITERATIONS = 10"
      ],
      "execution_count": 0,
      "outputs": []
    },
    {
      "metadata": {
        "id": "Mc7v70yRx9Tk",
        "colab_type": "code",
        "outputId": "852a8ce5-975e-4caf-f612-315aae9974e6",
        "colab": {
          "base_uri": "https://localhost:8080/",
          "height": 353
        }
      },
      "cell_type": "code",
      "source": [
        "for i in range(last_iterations, last_iterations + ITERATIONS):\n",
        "    print(\"Iteration {}\".format(i + 1))\n",
        "    \n",
        "    # randomly choose 2 models\n",
        "    model_idxs = np.random.choice(np.arange(POPULATION_SIZE), size=2, replace=False)\n",
        "    \n",
        "    better_model_idx = -1\n",
        "    worse_model_idx = -1\n",
        "    if errors[model_idxs[0]] <= errors[model_idxs[1]]:\n",
        "        better_model_idx = model_idxs[0]\n",
        "        worse_model_idx = model_idxs[1]\n",
        "    else:\n",
        "        better_model_idx = model_idxs[1]\n",
        "        worse_model_idx = model_idxs[0]\n",
        "    \n",
        "    parent_model = population[better_model_idx]\n",
        "    \n",
        "    # kill and remove the worse model\n",
        "    population.pop(worse_model_idx)\n",
        "    errors = np.delete(errors, worse_model_idx)\n",
        "    \n",
        "    # reproduce the child model\n",
        "    child_model_options, mutation = DenseNeuralNetwork.evolve_model_options(parent_model.model_options)\n",
        "    print(\"Mutation: {}\".format(mutation))\n",
        "    child_model = DenseNeuralNetwork(\n",
        "        child_model_options,\n",
        "        input_options,\n",
        "        stock_code\n",
        "    )\n",
        "    \n",
        "    # train the child model\n",
        "    # prepare the data\n",
        "    x, y = build_dataset(child_model.input_options, child_model.model_options[\"predict_n\"], True)\n",
        "    # split the data into training set and testing set\n",
        "    x_train, x_test, y_train, y_test = train_test_split(x, y, test_size=0.1)\n",
        "    # train the child model\n",
        "    child_model.train(\n",
        "        x_train,\n",
        "        y_train,\n",
        "        verbose=0,\n",
        "        callbacks=[TensorBoard(log_dir=\"./evolution_tensorboard_logs/{}\".format(i + 1))]\n",
        "    )\n",
        "    # calculate the child model error\n",
        "    child_error = child_model.model.evaluate(x_test, y_test, verbose=0)\n",
        "    \n",
        "    # append the child model and its error\n",
        "    population.append(child_model)\n",
        "    errors = np.append(errors, child_error[-1])\n",
        "    error_history = np.append(error_history, [errors], axis=0)\n",
        "    \n",
        "    # plot the child model graph\n",
        "    plot_model(child_model.model, to_file=\"evolution_model_graphs/{}.png\".format(i + 1))"
      ],
      "execution_count": 0,
      "outputs": [
        {
          "output_type": "stream",
          "text": [
            "Iteration 1\n",
            "Mutation: remove_dense_layer\n",
            "Iteration 2\n",
            "Mutation: batch_size\n",
            "Iteration 3\n",
            "Mutation: change_activation\n",
            "Iteration 4\n",
            "Mutation: change_units\n",
            "Iteration 5\n",
            "Mutation: remove_dense_layer\n",
            "Iteration 6\n",
            "Mutation: batch_size\n",
            "Iteration 7\n",
            "Mutation: change_activation\n",
            "Iteration 8\n",
            "Mutation: learning_rate\n",
            "Iteration 9\n",
            "Mutation: batch_size\n",
            "Iteration 10\n",
            "Mutation: change_units\n"
          ],
          "name": "stdout"
        }
      ]
    },
    {
      "metadata": {
        "id": "8_7IR0C1n5DM",
        "colab_type": "code",
        "colab": {}
      },
      "cell_type": "code",
      "source": [
        "# get the best model\n",
        "best_model_idx = np.argmin(errors)\n",
        "best_model = population[best_model_idx]"
      ],
      "execution_count": 0,
      "outputs": []
    },
    {
      "metadata": {
        "id": "D0VuGvIrpU0T",
        "colab_type": "text"
      },
      "cell_type": "markdown",
      "source": [
        "## Write this run data"
      ]
    },
    {
      "metadata": {
        "id": "BddjwKVnhEA7",
        "colab_type": "code",
        "colab": {}
      },
      "cell_type": "code",
      "source": [
        "with open(\"last_run.json\", \"w\") as last_run_file:\n",
        "    json.dump({\n",
        "        \"last_iterations\": last_iterations + ITERATIONS,\n",
        "        \"population\": [{\n",
        "            \"model_options\": model.model_options,\n",
        "            \"input_options\": model.input_options,\n",
        "            \"stock_code\": model.stock_code\n",
        "        } for model in population],\n",
        "        \"errors\": errors.tolist(),\n",
        "        \"error_history\": error_history.tolist()\n",
        "    }, last_run_file, indent=4)"
      ],
      "execution_count": 0,
      "outputs": []
    },
    {
      "metadata": {
        "id": "8u05LTKRF2wy",
        "colab_type": "code",
        "outputId": "62170e49-33f0-4099-8ac4-76c5f1254d84",
        "colab": {
          "base_uri": "https://localhost:8080/",
          "height": 706
        }
      },
      "cell_type": "code",
      "source": [
        "!zip -r evolution_tensorboard_logs.zip evolution_tensorboard_logs"
      ],
      "execution_count": 0,
      "outputs": [
        {
          "output_type": "stream",
          "text": [
            "  adding: evolution_tensorboard_logs/ (stored 0%)\n",
            "  adding: evolution_tensorboard_logs/6/ (stored 0%)\n",
            "  adding: evolution_tensorboard_logs/6/events.out.tfevents.1548857199.b89525f1e109 (deflated 90%)\n",
            "  adding: evolution_tensorboard_logs/initial_5/ (stored 0%)\n",
            "  adding: evolution_tensorboard_logs/initial_5/events.out.tfevents.1548856993.b89525f1e109 (deflated 90%)\n",
            "  adding: evolution_tensorboard_logs/initial_10/ (stored 0%)\n",
            "  adding: evolution_tensorboard_logs/initial_10/events.out.tfevents.1548857030.b89525f1e109 (deflated 90%)\n",
            "  adding: evolution_tensorboard_logs/initial_6/ (stored 0%)\n",
            "  adding: evolution_tensorboard_logs/initial_6/events.out.tfevents.1548857001.b89525f1e109 (deflated 90%)\n",
            "  adding: evolution_tensorboard_logs/5/ (stored 0%)\n",
            "  adding: evolution_tensorboard_logs/5/events.out.tfevents.1548857173.b89525f1e109 (deflated 90%)\n",
            "  adding: evolution_tensorboard_logs/7/ (stored 0%)\n",
            "  adding: evolution_tensorboard_logs/7/events.out.tfevents.1548857225.b89525f1e109 (deflated 90%)\n",
            "  adding: evolution_tensorboard_logs/initial_7/ (stored 0%)\n",
            "  adding: evolution_tensorboard_logs/initial_7/events.out.tfevents.1548857014.b89525f1e109 (deflated 90%)\n",
            "  adding: evolution_tensorboard_logs/2/ (stored 0%)\n",
            "  adding: evolution_tensorboard_logs/2/events.out.tfevents.1548857095.b89525f1e109 (deflated 90%)\n",
            "  adding: evolution_tensorboard_logs/initial_9/ (stored 0%)\n",
            "  adding: evolution_tensorboard_logs/initial_9/events.out.tfevents.1548857026.b89525f1e109 (deflated 91%)\n",
            "  adding: evolution_tensorboard_logs/initial_4/ (stored 0%)\n",
            "  adding: evolution_tensorboard_logs/initial_4/events.out.tfevents.1548856968.b89525f1e109 (deflated 90%)\n",
            "  adding: evolution_tensorboard_logs/initial_1/ (stored 0%)\n",
            "  adding: evolution_tensorboard_logs/initial_1/events.out.tfevents.1548856948.b89525f1e109 (deflated 90%)\n",
            "  adding: evolution_tensorboard_logs/8/ (stored 0%)\n",
            "  adding: evolution_tensorboard_logs/8/events.out.tfevents.1548857252.b89525f1e109 (deflated 90%)\n",
            "  adding: evolution_tensorboard_logs/initial_2/ (stored 0%)\n",
            "  adding: evolution_tensorboard_logs/initial_2/events.out.tfevents.1548856962.b89525f1e109 (deflated 90%)\n",
            "  adding: evolution_tensorboard_logs/10/ (stored 0%)\n",
            "  adding: evolution_tensorboard_logs/10/events.out.tfevents.1548857293.b89525f1e109 (deflated 90%)\n",
            "  adding: evolution_tensorboard_logs/9/ (stored 0%)\n",
            "  adding: evolution_tensorboard_logs/9/events.out.tfevents.1548857278.b89525f1e109 (deflated 90%)\n",
            "  adding: evolution_tensorboard_logs/3/ (stored 0%)\n",
            "  adding: evolution_tensorboard_logs/3/events.out.tfevents.1548857120.b89525f1e109 (deflated 90%)\n",
            "  adding: evolution_tensorboard_logs/4/ (stored 0%)\n",
            "  adding: evolution_tensorboard_logs/4/events.out.tfevents.1548857147.b89525f1e109 (deflated 90%)\n",
            "  adding: evolution_tensorboard_logs/initial_3/ (stored 0%)\n",
            "  adding: evolution_tensorboard_logs/initial_3/events.out.tfevents.1548856965.b89525f1e109 (deflated 90%)\n",
            "  adding: evolution_tensorboard_logs/1/ (stored 0%)\n",
            "  adding: evolution_tensorboard_logs/1/events.out.tfevents.1548857069.b89525f1e109 (deflated 90%)\n",
            "  adding: evolution_tensorboard_logs/initial_8/ (stored 0%)\n",
            "  adding: evolution_tensorboard_logs/initial_8/events.out.tfevents.1548857018.b89525f1e109 (deflated 90%)\n"
          ],
          "name": "stdout"
        }
      ]
    },
    {
      "metadata": {
        "id": "vpk7Do5-AF5n",
        "colab_type": "code",
        "outputId": "e8d2c12f-3228-4fea-d156-c6ab5e01ff4c",
        "colab": {
          "base_uri": "https://localhost:8080/",
          "height": 202
        }
      },
      "cell_type": "code",
      "source": [
        "!zip -r evolution_model_graphs.zip evolution_model_graphs"
      ],
      "execution_count": 0,
      "outputs": [
        {
          "output_type": "stream",
          "text": [
            "  adding: evolution_model_graphs/ (stored 0%)\n",
            "  adding: evolution_model_graphs/3.png (deflated 8%)\n",
            "  adding: evolution_model_graphs/8.png (deflated 7%)\n",
            "  adding: evolution_model_graphs/7.png (deflated 8%)\n",
            "  adding: evolution_model_graphs/10.png (deflated 8%)\n",
            "  adding: evolution_model_graphs/2.png (deflated 8%)\n",
            "  adding: evolution_model_graphs/9.png (deflated 8%)\n",
            "  adding: evolution_model_graphs/1.png (deflated 8%)\n",
            "  adding: evolution_model_graphs/5.png (deflated 7%)\n",
            "  adding: evolution_model_graphs/4.png (deflated 8%)\n",
            "  adding: evolution_model_graphs/6.png (deflated 8%)\n"
          ],
          "name": "stdout"
        }
      ]
    },
    {
      "metadata": {
        "id": "AZ-pejbwpiS-",
        "colab_type": "text"
      },
      "cell_type": "markdown",
      "source": [
        "## Plot predictions"
      ]
    },
    {
      "metadata": {
        "id": "9D0U3kUj7BSC",
        "colab_type": "code",
        "colab": {}
      },
      "cell_type": "code",
      "source": [
        "import pandas as pd"
      ],
      "execution_count": 0,
      "outputs": []
    },
    {
      "metadata": {
        "id": "DVXFj0wx7BSI",
        "colab_type": "code",
        "colab": {}
      },
      "cell_type": "code",
      "source": [
        "import matplotlib.pyplot as plt"
      ],
      "execution_count": 0,
      "outputs": []
    },
    {
      "metadata": {
        "id": "k3f2V3ke7BSO",
        "colab_type": "code",
        "outputId": "37a8378e-c82b-47c0-cb6e-f082bf8b6e6a",
        "colab": {
          "base_uri": "https://localhost:8080/",
          "height": 364
        }
      },
      "cell_type": "code",
      "source": [
        "stock_prices = pd.read_csv(\"./data/stock_prices/\" + stock_code + \".csv\", index_col=0)[\"adjusted_close\"].values[::-1]\n",
        "stock_prices = stock_prices[-90:]\n",
        "x = build_dataset(best_model.input_options, best_model.model_options[\"predict_n\"], False)\n",
        "prediction = best_model.predict(x)\n",
        "plt.plot(np.arange(len(stock_prices)), stock_prices)\n",
        "plt.plot(np.arange(len(stock_prices), len(stock_prices) + len(prediction)), prediction)"
      ],
      "execution_count": 0,
      "outputs": [
        {
          "output_type": "execute_result",
          "data": {
            "text/plain": [
              "[<matplotlib.lines.Line2D at 0x7fc6e1de1978>]"
            ]
          },
          "metadata": {
            "tags": []
          },
          "execution_count": 23
        },
        {
          "output_type": "display_data",
          "data": {
            "image/png": "[encoded data removed]",
            "text/plain": [
              "<Figure size 576x396 with 1 Axes>"
            ]
          },
          "metadata": {
            "tags": []
          }
        }
      ]
    },
    {
      "metadata": {
        "id": "21eBgYMZppxr",
        "colab_type": "text"
      },
      "cell_type": "markdown",
      "source": [
        "## Plot evolution data"
      ]
    },
    {
      "metadata": {
        "id": "zS1yg9e-7BSR",
        "colab_type": "code",
        "outputId": "e52bef73-73ef-471a-d473-f2577ff588e9",
        "colab": {
          "base_uri": "https://localhost:8080/",
          "height": 364
        }
      },
      "cell_type": "code",
      "source": [
        "# plot evolution error history\n",
        "plt.scatter(\n",
        "    np.array([[i for _ in range(POPULATION_SIZE)] for i in range(error_history.shape[0])]).flatten(),\n",
        "    error_history.flatten()\n",
        ")"
      ],
      "execution_count": 0,
      "outputs": [
        {
          "output_type": "execute_result",
          "data": {
            "text/plain": [
              "<matplotlib.collections.PathCollection at 0x7fc6e0bbbe48>"
            ]
          },
          "metadata": {
            "tags": []
          },
          "execution_count": 24
        },
        {
          "output_type": "display_data",
          "data": {
            "image/png": "[encoded data removed]",
            "text/plain": [
              "<Figure size 576x396 with 1 Axes>"
            ]
          },
          "metadata": {
            "tags": []
          }
        }
      ]
    },
    {
      "metadata": {
        "id": "A9mWPc2WToin",
        "colab_type": "code",
        "colab": {}
      },
      "cell_type": "code",
      "source": [
        ""
      ],
      "execution_count": 0,
      "outputs": []
    }
  ]
}