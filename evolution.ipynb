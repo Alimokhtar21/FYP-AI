{
  "nbformat": 4,
  "nbformat_minor": 0,
  "metadata": {
    "colab": {
      "name": "evolution.ipynb",
      "version": "0.3.2",
      "provenance": []
    },
    "kernelspec": {
      "name": "python3",
      "display_name": "Python 3"
    },
    "accelerator": "GPU"
  },
  "cells": [
    {
      "metadata": {
        "id": "10u32iHqoiFS",
        "colab_type": "text"
      },
      "cell_type": "markdown",
      "source": [
        "# Evolution Algorithm"
      ]
    },
    {
      "metadata": {
        "id": "rSYHjesZ7zwL",
        "colab_type": "code",
        "colab": {
          "base_uri": "https://localhost:8080/",
          "height": 84
        },
        "outputId": "dc8c44b2-abe3-4050-aa3d-ea3a6651a28f"
      },
      "cell_type": "code",
      "source": [
        "# setup Google Colaboratory\n",
        "!mkdir models\n",
        "!mkdir data\n",
        "!mkdir data/stock_prices\n",
        "!mkdir evolution_model_graphs"
      ],
      "execution_count": 1,
      "outputs": [
        {
          "output_type": "stream",
          "text": [
            "mkdir: cannot create directory ‘models’: File exists\n",
            "mkdir: cannot create directory ‘data’: File exists\n",
            "mkdir: cannot create directory ‘data/stock_prices’: File exists\n",
            "mkdir: cannot create directory ‘evolution_model_graphs’: File exists\n"
          ],
          "name": "stdout"
        }
      ]
    },
    {
      "metadata": {
        "id": "ND9zF0qwor7A",
        "colab_type": "text"
      },
      "cell_type": "markdown",
      "source": [
        "## Import dependencies"
      ]
    },
    {
      "metadata": {
        "id": "Vsm09yqq7BRP",
        "colab_type": "code",
        "colab": {}
      },
      "cell_type": "code",
      "source": [
        "import numpy as np\n",
        "from sklearn.model_selection import train_test_split\n",
        "from os import path"
      ],
      "execution_count": 0,
      "outputs": []
    },
    {
      "metadata": {
        "id": "xl_VY9ib7BRT",
        "colab_type": "code",
        "colab": {}
      },
      "cell_type": "code",
      "source": [
        "from build_dataset import build_dataset"
      ],
      "execution_count": 0,
      "outputs": []
    },
    {
      "metadata": {
        "id": "sgRhogiS7BRZ",
        "colab_type": "code",
        "colab": {
          "base_uri": "https://localhost:8080/",
          "height": 34
        },
        "outputId": "01175346-089d-40f3-c7cc-82a8a125feca"
      },
      "cell_type": "code",
      "source": [
        "from models.dnn_regression import DenseNeuralNetwork"
      ],
      "execution_count": 4,
      "outputs": [
        {
          "output_type": "stream",
          "text": [
            "Using TensorFlow backend.\n"
          ],
          "name": "stderr"
        }
      ]
    },
    {
      "metadata": {
        "id": "t1o4RjWV7BRf",
        "colab_type": "code",
        "colab": {}
      },
      "cell_type": "code",
      "source": [
        "import json\n",
        "from keras.callbacks import TensorBoard\n",
        "from keras.utils import plot_model"
      ],
      "execution_count": 0,
      "outputs": []
    },
    {
      "metadata": {
        "id": "s2_9V9XMo1vO",
        "colab_type": "text"
      },
      "cell_type": "markdown",
      "source": [
        "## Get last run data"
      ]
    },
    {
      "metadata": {
        "id": "1MGLsRIBez9Y",
        "colab_type": "code",
        "colab": {}
      },
      "cell_type": "code",
      "source": [
        "last_run = None\n",
        "if path.isfile(\"last_run.json\"):\n",
        "    with open(\"last_run.json\", \"r\") as last_run_file:\n",
        "        last_run = json.load(last_run_file)"
      ],
      "execution_count": 0,
      "outputs": []
    },
    {
      "metadata": {
        "id": "7VqZrq0Ao9UK",
        "colab_type": "text"
      },
      "cell_type": "markdown",
      "source": [
        "## Initialize models"
      ]
    },
    {
      "metadata": {
        "id": "6ulhiQ5-7BRn",
        "colab_type": "code",
        "outputId": "fba8dde2-0dc2-459d-8af2-d9a5214f7505",
        "colab": {
          "base_uri": "https://localhost:8080/",
          "height": 3377
        }
      },
      "cell_type": "code",
      "source": [
        "if last_run is not None:\n",
        "    last_top_models = []\n",
        "    last_error_idx_sorted = np.argsort(last_run[\"evolution_errors\"][-1])\n",
        "    for last_top_model_idx in last_error_idx_sorted[:2]:\n",
        "        last_top_models.append(DenseNeuralNetwork(\n",
        "            last_run[\"last_models\"][last_top_model_idx][\"model_options\"],\n",
        "            last_run[\"last_models\"][last_top_model_idx][\"input_options\"],\n",
        "            last_run[\"last_models\"][last_top_model_idx][\"stock_code\"]\n",
        "        ))\n",
        "    models, mutations = DenseNeuralNetwork.evolve(last_top_models, 10)\n",
        "    for mutation in mutations:\n",
        "        print(mutation)\n",
        "else:\n",
        "    # initialize some random models\n",
        "    models = DenseNeuralNetwork.random_models(10, \"dense\")\n",
        "    for i, model in enumerate(models):\n",
        "        print(\"Model {}\".format(i))\n",
        "        print(json.dumps(model.model_options, indent=4))"
      ],
      "execution_count": 7,
      "outputs": [
        {
          "output_type": "stream",
          "text": [
            "Model 0\n",
            "{\n",
            "    \"net\": {\n",
            "        \"layers\": [\n",
            "            {\n",
            "                \"layer_type\": \"dense\"\n",
            "            }\n",
            "        ],\n",
            "        \"loss\": \"mse\",\n",
            "        \"optimizer\": \"Adam\",\n",
            "        \"learning_rate\": 0.0001,\n",
            "        \"epochs\": 50,\n",
            "        \"batch_size\": 32,\n",
            "        \"metrics\": [\n",
            "            \"mse\"\n",
            "        ]\n",
            "    },\n",
            "    \"predict_n\": 10,\n",
            "    \"network_type\": \"dense\"\n",
            "}\n",
            "Model 1\n",
            "{\n",
            "    \"net\": {\n",
            "        \"layers\": [\n",
            "            {\n",
            "                \"layer_type\": \"dense\"\n",
            "            }\n",
            "        ],\n",
            "        \"loss\": \"mse\",\n",
            "        \"optimizer\": \"Adam\",\n",
            "        \"learning_rate\": 0.0001,\n",
            "        \"epochs\": 10,\n",
            "        \"batch_size\": 32,\n",
            "        \"metrics\": [\n",
            "            \"mse\"\n",
            "        ]\n",
            "    },\n",
            "    \"predict_n\": 10,\n",
            "    \"network_type\": \"dense\"\n",
            "}\n",
            "Model 2\n",
            "{\n",
            "    \"net\": {\n",
            "        \"layers\": [\n",
            "            {\n",
            "                \"layer_type\": \"dense\"\n",
            "            }\n",
            "        ],\n",
            "        \"loss\": \"mse\",\n",
            "        \"optimizer\": \"Adam\",\n",
            "        \"learning_rate\": 0.01,\n",
            "        \"epochs\": 100,\n",
            "        \"batch_size\": 64,\n",
            "        \"metrics\": [\n",
            "            \"mse\"\n",
            "        ]\n",
            "    },\n",
            "    \"predict_n\": 10,\n",
            "    \"network_type\": \"dense\"\n",
            "}\n",
            "Model 3\n",
            "{\n",
            "    \"net\": {\n",
            "        \"layers\": [\n",
            "            {\n",
            "                \"layer_type\": \"dense\"\n",
            "            }\n",
            "        ],\n",
            "        \"loss\": \"mse\",\n",
            "        \"optimizer\": \"Adam\",\n",
            "        \"learning_rate\": 0.01,\n",
            "        \"epochs\": 10,\n",
            "        \"batch_size\": 64,\n",
            "        \"metrics\": [\n",
            "            \"mse\"\n",
            "        ]\n",
            "    },\n",
            "    \"predict_n\": 10,\n",
            "    \"network_type\": \"dense\"\n",
            "}\n",
            "Model 4\n",
            "{\n",
            "    \"net\": {\n",
            "        \"layers\": [\n",
            "            {\n",
            "                \"layer_type\": \"dense\"\n",
            "            }\n",
            "        ],\n",
            "        \"loss\": \"mse\",\n",
            "        \"optimizer\": \"Adam\",\n",
            "        \"learning_rate\": 0.0001,\n",
            "        \"epochs\": 20,\n",
            "        \"batch_size\": 32,\n",
            "        \"metrics\": [\n",
            "            \"mse\"\n",
            "        ]\n",
            "    },\n",
            "    \"predict_n\": 10,\n",
            "    \"network_type\": \"dense\"\n",
            "}\n",
            "Model 5\n",
            "{\n",
            "    \"net\": {\n",
            "        \"layers\": [\n",
            "            {\n",
            "                \"layer_type\": \"dense\"\n",
            "            }\n",
            "        ],\n",
            "        \"loss\": \"mse\",\n",
            "        \"optimizer\": \"Adam\",\n",
            "        \"learning_rate\": 0.0001,\n",
            "        \"epochs\": 10,\n",
            "        \"batch_size\": 64,\n",
            "        \"metrics\": [\n",
            "            \"mse\"\n",
            "        ]\n",
            "    },\n",
            "    \"predict_n\": 10,\n",
            "    \"network_type\": \"dense\"\n",
            "}\n",
            "Model 6\n",
            "{\n",
            "    \"net\": {\n",
            "        \"layers\": [\n",
            "            {\n",
            "                \"layer_type\": \"dense\"\n",
            "            }\n",
            "        ],\n",
            "        \"loss\": \"mse\",\n",
            "        \"optimizer\": \"Adam\",\n",
            "        \"learning_rate\": 0.001,\n",
            "        \"epochs\": 10,\n",
            "        \"batch_size\": 16,\n",
            "        \"metrics\": [\n",
            "            \"mse\"\n",
            "        ]\n",
            "    },\n",
            "    \"predict_n\": 10,\n",
            "    \"network_type\": \"dense\"\n",
            "}\n",
            "Model 7\n",
            "{\n",
            "    \"net\": {\n",
            "        \"layers\": [\n",
            "            {\n",
            "                \"layer_type\": \"dense\"\n",
            "            }\n",
            "        ],\n",
            "        \"loss\": \"mse\",\n",
            "        \"optimizer\": \"Adam\",\n",
            "        \"learning_rate\": 0.01,\n",
            "        \"epochs\": 50,\n",
            "        \"batch_size\": 32,\n",
            "        \"metrics\": [\n",
            "            \"mse\"\n",
            "        ]\n",
            "    },\n",
            "    \"predict_n\": 10,\n",
            "    \"network_type\": \"dense\"\n",
            "}\n",
            "Model 8\n",
            "{\n",
            "    \"net\": {\n",
            "        \"layers\": [\n",
            "            {\n",
            "                \"layer_type\": \"dense\"\n",
            "            }\n",
            "        ],\n",
            "        \"loss\": \"mse\",\n",
            "        \"optimizer\": \"Adam\",\n",
            "        \"learning_rate\": 0.01,\n",
            "        \"epochs\": 50,\n",
            "        \"batch_size\": 32,\n",
            "        \"metrics\": [\n",
            "            \"mse\"\n",
            "        ]\n",
            "    },\n",
            "    \"predict_n\": 10,\n",
            "    \"network_type\": \"dense\"\n",
            "}\n",
            "Model 9\n",
            "{\n",
            "    \"net\": {\n",
            "        \"layers\": [\n",
            "            {\n",
            "                \"layer_type\": \"dense\"\n",
            "            }\n",
            "        ],\n",
            "        \"loss\": \"mse\",\n",
            "        \"optimizer\": \"Adam\",\n",
            "        \"learning_rate\": 0.01,\n",
            "        \"epochs\": 50,\n",
            "        \"batch_size\": 32,\n",
            "        \"metrics\": [\n",
            "            \"mse\"\n",
            "        ]\n",
            "    },\n",
            "    \"predict_n\": 10,\n",
            "    \"network_type\": \"dense\"\n",
            "}\n"
          ],
          "name": "stdout"
        }
      ]
    },
    {
      "metadata": {
        "id": "x9PQkMB3pCI0",
        "colab_type": "text"
      },
      "cell_type": "markdown",
      "source": [
        "## Evolution algorithm"
      ]
    },
    {
      "metadata": {
        "id": "DISD7HjK7BRt",
        "colab_type": "code",
        "colab": {}
      },
      "cell_type": "code",
      "source": [
        "evolution_errors = last_run[\"evolution_errors\"] if last_run is not None else []"
      ],
      "execution_count": 0,
      "outputs": []
    },
    {
      "metadata": {
        "id": "dY4R9wSJnraO",
        "colab_type": "code",
        "colab": {}
      },
      "cell_type": "code",
      "source": [
        "best_models = last_run[\"best_models\"] if last_run is not None else []"
      ],
      "execution_count": 0,
      "outputs": []
    },
    {
      "metadata": {
        "id": "4hFNND6q7BRw",
        "colab_type": "code",
        "colab": {}
      },
      "cell_type": "code",
      "source": [
        "last_iterations = last_run[\"last_iterations\"] if last_run is not None else 0\n",
        "iterations = 1"
      ],
      "execution_count": 0,
      "outputs": []
    },
    {
      "metadata": {
        "id": "C86LUolv7BR0",
        "colab_type": "code",
        "outputId": "640c4313-081e-4a4e-e55d-92d0f105e8d5",
        "colab": {
          "base_uri": "https://localhost:8080/",
          "height": 1394
        }
      },
      "cell_type": "code",
      "source": [
        "for i in range(last_iterations, last_iterations + iterations):\n",
        "    errors = []\n",
        "\n",
        "    for model_idx, model in enumerate(models):\n",
        "        print(\"Iteration {0}, Model {1}\".format(i + 1, model_idx + 1))\n",
        "        \n",
        "        # prepare the data\n",
        "        x, y = build_dataset(model.input_options, model.model_options[\"predict_n\"], True)\n",
        "        # split the data into training set and testing set\n",
        "        x_train, x_test, y_train, y_test = train_test_split(x, y, test_size=0.1)\n",
        "        # train the model\n",
        "        model.train(\n",
        "            x_train,\n",
        "            y_train,\n",
        "            verbose=0,\n",
        "            callbacks=[TensorBoard(log_dir=\"./evolution_tensorboard_logs/{}_{}\".format(i + 1, model_idx + 1))]\n",
        "        )\n",
        "        # calculate the model error\n",
        "        error = model.model.evaluate(x_test, y_test, verbose=0)\n",
        "        errors.append(error[-1])\n",
        "\n",
        "    evolution_errors.append(errors)\n",
        "    \n",
        "    # select top models\n",
        "    error_idx_sorted = np.argsort(errors)\n",
        "    top_models = [models[i] for i in error_idx_sorted[:2]]\n",
        "    \n",
        "    print(\"Best model\")\n",
        "    print(json.dumps(top_models[0].model_options, indent=4))\n",
        "    print(json.dumps(top_models[0].input_options, indent=4))\n",
        "    plot_model(top_models[0].model, to_file=\"evolution_model_graphs/{}.png\".format(i + 1))\n",
        "\n",
        "    # cross-over models and breed new models\n",
        "    if i < iterations - 1:\n",
        "        models, mutations = DenseNeuralNetwork.evolve(top_models, 10)\n",
        "        for mutation in mutations:\n",
        "            print(mutation)\n",
        "    \n",
        "    print()"
      ],
      "execution_count": 11,
      "outputs": [
        {
          "output_type": "stream",
          "text": [
            "Iteration 1, Model 1\n",
            "Iteration 1, Model 2\n",
            "Iteration 1, Model 3\n",
            "Iteration 1, Model 4\n",
            "Iteration 1, Model 5\n",
            "Iteration 1, Model 6\n",
            "Iteration 1, Model 7\n",
            "Iteration 1, Model 8\n",
            "Iteration 1, Model 9\n",
            "Iteration 1, Model 10\n",
            "Best model\n",
            "{\n",
            "    \"net\": {\n",
            "        \"layers\": [\n",
            "            {\n",
            "                \"layer_type\": \"dense\"\n",
            "            }\n",
            "        ],\n",
            "        \"loss\": \"mse\",\n",
            "        \"optimizer\": \"Adam\",\n",
            "        \"learning_rate\": 0.01,\n",
            "        \"epochs\": 50,\n",
            "        \"batch_size\": 32,\n",
            "        \"metrics\": [\n",
            "            \"mse\"\n",
            "        ]\n",
            "    },\n",
            "    \"predict_n\": 10,\n",
            "    \"network_type\": \"dense\"\n",
            "}\n",
            "{\n",
            "    \"config\": [\n",
            "        {\n",
            "            \"type\": \"lookback\",\n",
            "            \"n\": 22,\n",
            "            \"stock_code\": \"GOOGL\",\n",
            "            \"column\": \"adjusted_close\"\n",
            "        },\n",
            "        {\n",
            "            \"type\": \"moving_avg\",\n",
            "            \"n\": 5,\n",
            "            \"stock_code\": \"GOOGL\",\n",
            "            \"column\": \"adjusted_close\"\n",
            "        },\n",
            "        {\n",
            "            \"type\": \"moving_avg\",\n",
            "            \"n\": 10,\n",
            "            \"stock_code\": \"GOOGL\",\n",
            "            \"column\": \"adjusted_close\"\n",
            "        },\n",
            "        {\n",
            "            \"type\": \"moving_avg\",\n",
            "            \"n\": 30,\n",
            "            \"stock_code\": \"GOOGL\",\n",
            "            \"column\": \"adjusted_close\"\n",
            "        },\n",
            "        {\n",
            "            \"type\": \"moving_avg\",\n",
            "            \"n\": 90,\n",
            "            \"stock_code\": \"GOOGL\",\n",
            "            \"column\": \"adjusted_close\"\n",
            "        },\n",
            "        {\n",
            "            \"type\": \"moving_avg\",\n",
            "            \"n\": 180,\n",
            "            \"stock_code\": \"GOOGL\",\n",
            "            \"column\": \"adjusted_close\"\n",
            "        },\n",
            "        {\n",
            "            \"type\": \"moving_avg\",\n",
            "            \"n\": 365,\n",
            "            \"stock_code\": \"GOOGL\",\n",
            "            \"column\": \"adjusted_close\"\n",
            "        }\n",
            "    ],\n",
            "    \"stock_codes\": [\n",
            "        \"GOOGL\"\n",
            "    ],\n",
            "    \"stock_code\": \"GOOGL\",\n",
            "    \"column\": \"adjusted_close\"\n",
            "}\n",
            "\n"
          ],
          "name": "stdout"
        }
      ]
    },
    {
      "metadata": {
        "id": "8_7IR0C1n5DM",
        "colab_type": "code",
        "colab": {}
      },
      "cell_type": "code",
      "source": [
        "# get the best model\n",
        "best_model_idx = np.argmin(evolution_errors[-1])\n",
        "best_model = models[best_model_idx]\n",
        "best_models.append({\n",
        "    \"model_options\": best_model.model_options,\n",
        "    \"input_options\": best_model.input_options,\n",
        "    \"stock_code\": best_model.stock_code\n",
        "})"
      ],
      "execution_count": 0,
      "outputs": []
    },
    {
      "metadata": {
        "id": "D0VuGvIrpU0T",
        "colab_type": "text"
      },
      "cell_type": "markdown",
      "source": [
        "## Write this run data"
      ]
    },
    {
      "metadata": {
        "id": "BddjwKVnhEA7",
        "colab_type": "code",
        "colab": {}
      },
      "cell_type": "code",
      "source": [
        "with open(\"last_run.json\", \"w\") as last_run_file:\n",
        "    json.dump({\n",
        "        \"last_iterations\": last_iterations + iterations,\n",
        "        \"last_models\": [{\n",
        "            \"model_options\": model.model_options,\n",
        "            \"input_options\": model.input_options,\n",
        "            \"stock_code\": model.stock_code\n",
        "        } for model in models],\n",
        "        \"evolution_errors\": evolution_errors,\n",
        "        \"best_models\": best_models\n",
        "    }, last_run_file, indent=4)"
      ],
      "execution_count": 0,
      "outputs": []
    },
    {
      "metadata": {
        "id": "8u05LTKRF2wy",
        "colab_type": "code",
        "outputId": "4561fbdf-9d5f-430e-9a33-ceffe756c3b1",
        "colab": {
          "base_uri": "https://localhost:8080/",
          "height": 403
        }
      },
      "cell_type": "code",
      "source": [
        "!zip -r evolution_tensorboard_logs.zip evolution_tensorboard_logs\n",
        "!zip -r evolution_model_graphs.zip evolution_model_graphs"
      ],
      "execution_count": 14,
      "outputs": [
        {
          "output_type": "stream",
          "text": [
            "  adding: evolution_tensorboard_logs/ (stored 0%)\n",
            "  adding: evolution_tensorboard_logs/1_2/ (stored 0%)\n",
            "  adding: evolution_tensorboard_logs/1_2/events.out.tfevents.1548732910.d6ae92a1c09c (deflated 90%)\n",
            "  adding: evolution_tensorboard_logs/1_8/ (stored 0%)\n",
            "  adding: evolution_tensorboard_logs/1_8/events.out.tfevents.1548732947.d6ae92a1c09c (deflated 90%)\n",
            "  adding: evolution_tensorboard_logs/1_3/ (stored 0%)\n",
            "  adding: evolution_tensorboard_logs/1_3/events.out.tfevents.1548732914.d6ae92a1c09c (deflated 90%)\n",
            "  adding: evolution_tensorboard_logs/1_7/ (stored 0%)\n",
            "  adding: evolution_tensorboard_logs/1_7/events.out.tfevents.1548732940.d6ae92a1c09c (deflated 90%)\n",
            "  adding: evolution_tensorboard_logs/1_5/ (stored 0%)\n",
            "  adding: evolution_tensorboard_logs/1_5/events.out.tfevents.1548732930.d6ae92a1c09c (deflated 90%)\n",
            "  adding: evolution_tensorboard_logs/1_4/ (stored 0%)\n",
            "  adding: evolution_tensorboard_logs/1_4/events.out.tfevents.1548732928.d6ae92a1c09c (deflated 90%)\n",
            "  adding: evolution_tensorboard_logs/1_9/ (stored 0%)\n",
            "  adding: evolution_tensorboard_logs/1_9/events.out.tfevents.1548732961.d6ae92a1c09c (deflated 90%)\n",
            "  adding: evolution_tensorboard_logs/1_6/ (stored 0%)\n",
            "  adding: evolution_tensorboard_logs/1_6/events.out.tfevents.1548732937.d6ae92a1c09c (deflated 90%)\n",
            "  adding: evolution_tensorboard_logs/1_1/ (stored 0%)\n",
            "  adding: evolution_tensorboard_logs/1_1/events.out.tfevents.1548732895.d6ae92a1c09c (deflated 90%)\n",
            "  adding: evolution_tensorboard_logs/1_10/ (stored 0%)\n",
            "  adding: evolution_tensorboard_logs/1_10/events.out.tfevents.1548732975.d6ae92a1c09c (deflated 90%)\n",
            "  adding: evolution_model_graphs/ (stored 0%)\n",
            "  adding: evolution_model_graphs/1.png (deflated 10%)\n"
          ],
          "name": "stdout"
        }
      ]
    },
    {
      "metadata": {
        "id": "AZ-pejbwpiS-",
        "colab_type": "text"
      },
      "cell_type": "markdown",
      "source": [
        "## Plot predictions"
      ]
    },
    {
      "metadata": {
        "id": "9D0U3kUj7BSC",
        "colab_type": "code",
        "colab": {}
      },
      "cell_type": "code",
      "source": [
        "import pandas as pd"
      ],
      "execution_count": 0,
      "outputs": []
    },
    {
      "metadata": {
        "id": "DVXFj0wx7BSI",
        "colab_type": "code",
        "colab": {}
      },
      "cell_type": "code",
      "source": [
        "import matplotlib.pyplot as plt"
      ],
      "execution_count": 0,
      "outputs": []
    },
    {
      "metadata": {
        "id": "k3f2V3ke7BSO",
        "colab_type": "code",
        "outputId": "6487385d-6664-4f1f-e640-dbf9b261be9d",
        "colab": {
          "base_uri": "https://localhost:8080/",
          "height": 364
        }
      },
      "cell_type": "code",
      "source": [
        "stock_prices = pd.read_csv(\"./data/stock_prices/\" + model.stock_code + \".csv\", index_col=0)[\"adjusted_close\"].values[::-1]\n",
        "stock_prices = stock_prices[-90:]\n",
        "x = build_dataset(best_model.input_options, best_model.model_options[\"predict_n\"], False)\n",
        "prediction = best_model.predict(x)\n",
        "plt.plot(np.arange(len(stock_prices)), stock_prices)\n",
        "plt.plot(np.arange(len(stock_prices), len(stock_prices) + len(prediction)), prediction)"
      ],
      "execution_count": 17,
      "outputs": [
        {
          "output_type": "execute_result",
          "data": {
            "text/plain": [
              "[<matplotlib.lines.Line2D at 0x7f53103bd9b0>]"
            ]
          },
          "metadata": {
            "tags": []
          },
          "execution_count": 17
        },
        {
          "output_type": "display_data",
          "data": {
            "image/png": "[encoded data removed]",
            "text/plain": [
              "<Figure size 576x396 with 1 Axes>"
            ]
          },
          "metadata": {
            "tags": []
          }
        }
      ]
    },
    {
      "metadata": {
        "id": "21eBgYMZppxr",
        "colab_type": "text"
      },
      "cell_type": "markdown",
      "source": [
        "## Plot evolution data"
      ]
    },
    {
      "metadata": {
        "id": "zS1yg9e-7BSR",
        "colab_type": "code",
        "outputId": "89bc952a-b08f-4f16-df48-e699761dfd23",
        "colab": {
          "base_uri": "https://localhost:8080/",
          "height": 364
        }
      },
      "cell_type": "code",
      "source": [
        "# plot evolution errors\n",
        "plt.plot(np.arange(len(evolution_errors)), np.nanmin(evolution_errors, axis=1))"
      ],
      "execution_count": 18,
      "outputs": [
        {
          "output_type": "execute_result",
          "data": {
            "text/plain": [
              "[<matplotlib.lines.Line2D at 0x7f52fc27fd30>]"
            ]
          },
          "metadata": {
            "tags": []
          },
          "execution_count": 18
        },
        {
          "output_type": "display_data",
          "data": {
            "image/png": "[encoded data removed]",
            "text/plain": [
              "<Figure size 576x396 with 1 Axes>"
            ]
          },
          "metadata": {
            "tags": []
          }
        }
      ]
    },
    {
      "metadata": {
        "id": "A9mWPc2WToin",
        "colab_type": "code",
        "colab": {}
      },
      "cell_type": "code",
      "source": [
        ""
      ],
      "execution_count": 0,
      "outputs": []
    }
  ]
}