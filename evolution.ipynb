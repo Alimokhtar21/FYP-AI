{
 "cells": [
  {
   "cell_type": "code",
   "execution_count": 1,
   "metadata": {},
   "outputs": [],
   "source": [
    "import numpy as np\n",
    "from sklearn.model_selection import train_test_split"
   ]
  },
  {
   "cell_type": "code",
   "execution_count": 2,
   "metadata": {},
   "outputs": [],
   "source": [
    "from build_dataset import build_dataset"
   ]
  },
  {
   "cell_type": "code",
   "execution_count": 3,
   "metadata": {},
   "outputs": [
    {
     "name": "stderr",
     "output_type": "stream",
     "text": [
      "Using TensorFlow backend.\n"
     ]
    }
   ],
   "source": [
    "from models.dnn_regression import DenseNeuralNetwork"
   ]
  },
  {
   "cell_type": "code",
   "execution_count": 4,
   "metadata": {},
   "outputs": [],
   "source": [
    "ModelClass = DenseNeuralNetwork"
   ]
  },
  {
   "cell_type": "code",
   "execution_count": 5,
   "metadata": {},
   "outputs": [
    {
     "name": "stdout",
     "output_type": "stream",
     "text": [
      "{'net': {'layers': [{}], 'loss': 'mse', 'optimizer': 'Adam', 'learning_rate': 0.01, 'epochs': 10, 'batch_size': 64, 'metrics': ['mse'], 'evaluation_criteria': {'minimize': False, 'threshold': 7.044069977852158}}, 'predict_n': 10}\n",
      "{'net': {'layers': [{}], 'loss': 'mse', 'optimizer': 'Adamax', 'learning_rate': 0.001, 'epochs': 7, 'batch_size': 8, 'metrics': ['mse'], 'evaluation_criteria': {'minimize': False, 'threshold': 6.316257264046689}}, 'predict_n': 10}\n",
      "{'net': {'layers': [{}], 'loss': 'mse', 'optimizer': 'Adam', 'learning_rate': 0.0001, 'epochs': 4, 'batch_size': 1, 'metrics': ['mse'], 'evaluation_criteria': {'minimize': False, 'threshold': 7.987919336473124}}, 'predict_n': 10}\n",
      "{'net': {'layers': [{}], 'loss': 'mse', 'optimizer': 'Adadelta', 'learning_rate': 0.01, 'epochs': 1, 'batch_size': 8, 'metrics': ['mse'], 'evaluation_criteria': {'minimize': False, 'threshold': 4.5985609959569915}}, 'predict_n': 10}\n",
      "{'net': {'layers': [{}], 'loss': 'mse', 'optimizer': 'Adam', 'learning_rate': 0.01, 'epochs': 10, 'batch_size': 64, 'metrics': ['mse'], 'evaluation_criteria': {'minimize': False, 'threshold': 6.752254189159229}}, 'predict_n': 10}\n",
      "{'net': {'layers': [{}], 'loss': 'mse', 'optimizer': 'Adagrad', 'learning_rate': 0.001, 'epochs': 5, 'batch_size': 8, 'metrics': ['mse'], 'evaluation_criteria': {'minimize': False, 'threshold': 1.8569811337868112}}, 'predict_n': 10}\n",
      "{'net': {'layers': [{}], 'loss': 'mse', 'optimizer': 'Adadelta', 'learning_rate': 0.01, 'epochs': 6, 'batch_size': 8, 'metrics': ['mse'], 'evaluation_criteria': {'minimize': False, 'threshold': 8.826842946724648}}, 'predict_n': 10}\n",
      "{'net': {'layers': [{}], 'loss': 'mse', 'optimizer': 'Adamax', 'learning_rate': 0.0001, 'epochs': 10, 'batch_size': 8, 'metrics': ['mse'], 'evaluation_criteria': {'minimize': False, 'threshold': 8.478139832014492}}, 'predict_n': 10}\n",
      "{'net': {'layers': [{}], 'loss': 'mse', 'optimizer': 'Adam', 'learning_rate': 0.01, 'epochs': 4, 'batch_size': 1, 'metrics': ['mse'], 'evaluation_criteria': {'minimize': False, 'threshold': 2.3339415752261505}}, 'predict_n': 10}\n",
      "{'net': {'layers': [{}], 'loss': 'mse', 'optimizer': 'RMSprop', 'learning_rate': 0.01, 'epochs': 10, 'batch_size': 32, 'metrics': ['mse'], 'evaluation_criteria': {'minimize': False, 'threshold': 7.886494081651282}}, 'predict_n': 10}\n"
     ]
    }
   ],
   "source": [
    "# initialize some random models\n",
    "models = ModelClass.random_models(10)\n",
    "for model in models:\n",
    "    print(model.model_options)"
   ]
  },
  {
   "cell_type": "code",
   "execution_count": 6,
   "metadata": {},
   "outputs": [],
   "source": [
    "errors = []"
   ]
  },
  {
   "cell_type": "code",
   "execution_count": 7,
   "metadata": {},
   "outputs": [],
   "source": [
    "iterations = 2"
   ]
  },
  {
   "cell_type": "code",
   "execution_count": 8,
   "metadata": {},
   "outputs": [
    {
     "name": "stdout",
     "output_type": "stream",
     "text": [
      "Iteration 1, Model 1\n",
      "Epoch 1/10\n",
      "2808/2808 [==============================] - 0s 106us/step - loss: 135950.1981 - mean_squared_error: 135950.1981\n",
      "Epoch 2/10\n",
      "2808/2808 [==============================] - 0s 14us/step - loss: 1527.5593 - mean_squared_error: 1527.5593\n",
      "Epoch 3/10\n",
      "2808/2808 [==============================] - 0s 20us/step - loss: 505.5193 - mean_squared_error: 505.5193\n",
      "Epoch 4/10\n",
      "2808/2808 [==============================] - 0s 16us/step - loss: 501.5053 - mean_squared_error: 501.5053\n",
      "Epoch 5/10\n",
      "2808/2808 [==============================] - 0s 17us/step - loss: 501.7556 - mean_squared_error: 501.7556\n",
      "Epoch 6/10\n",
      "2808/2808 [==============================] - 0s 17us/step - loss: 499.6006 - mean_squared_error: 499.6006\n",
      "Epoch 7/10\n",
      "2808/2808 [==============================] - 0s 17us/step - loss: 497.9881 - mean_squared_error: 497.9881\n",
      "Epoch 8/10\n",
      "2808/2808 [==============================] - 0s 17us/step - loss: 494.0119 - mean_squared_error: 494.0119\n",
      "Epoch 9/10\n",
      "2808/2808 [==============================] - 0s 17us/step - loss: 504.6160 - mean_squared_error: 504.6160\n",
      "Epoch 10/10\n",
      "2808/2808 [==============================] - 0s 17us/step - loss: 496.8092 - mean_squared_error: 496.8092\n",
      "Iteration 1, Model 2\n",
      "Epoch 1/7\n",
      "2808/2808 [==============================] - 0s 137us/step - loss: 395284.4275 - mean_squared_error: 395284.4275\n",
      "Epoch 2/7\n",
      "2808/2808 [==============================] - 0s 102us/step - loss: 59203.3458 - mean_squared_error: 59203.3458\n",
      "Epoch 3/7\n",
      "2808/2808 [==============================] - 0s 98us/step - loss: 6503.8337 - mean_squared_error: 6503.8337\n",
      "Epoch 4/7\n",
      "2808/2808 [==============================] - 0s 98us/step - loss: 783.1863 - mean_squared_error: 783.1863\n",
      "Epoch 5/7\n",
      "2808/2808 [==============================] - 0s 118us/step - loss: 472.3491 - mean_squared_error: 472.3491\n",
      "Epoch 6/7\n",
      "2808/2808 [==============================] - 0s 99us/step - loss: 467.6693 - mean_squared_error: 467.6693\n",
      "Epoch 7/7\n",
      "2808/2808 [==============================] - 0s 97us/step - loss: 467.1350 - mean_squared_error: 467.1350\n",
      "Iteration 1, Model 3\n",
      "Epoch 1/4\n",
      "2808/2808 [==============================] - 2s 801us/step - loss: 27664.2920 - mean_squared_error: 27664.2920\n",
      "Epoch 2/4\n",
      "2808/2808 [==============================] - 2s 727us/step - loss: 546.9786 - mean_squared_error: 546.9786\n",
      "Epoch 3/4\n",
      "2808/2808 [==============================] - 2s 728us/step - loss: 482.6337 - mean_squared_error: 482.6337\n",
      "Epoch 4/4\n",
      "2808/2808 [==============================] - 2s 719us/step - loss: 479.2621 - mean_squared_error: 479.2621\n",
      "Iteration 1, Model 4\n",
      "Epoch 1/1\n",
      "2808/2808 [==============================] - 0s 148us/step - loss: 577854.4367 - mean_squared_error: 577854.4367\n",
      "Iteration 1, Model 5\n",
      "Epoch 1/10\n",
      "2808/2808 [==============================] - 0s 67us/step - loss: 127905.3748 - mean_squared_error: 127905.3748\n",
      "Epoch 2/10\n",
      "2808/2808 [==============================] - 0s 16us/step - loss: 1461.1420 - mean_squared_error: 1461.1420\n",
      "Epoch 3/10\n",
      "2808/2808 [==============================] - 0s 17us/step - loss: 658.9363 - mean_squared_error: 658.9363\n",
      "Epoch 4/10\n",
      "2808/2808 [==============================] - 0s 18us/step - loss: 648.1918 - mean_squared_error: 648.1918\n",
      "Epoch 5/10\n",
      "2808/2808 [==============================] - 0s 18us/step - loss: 641.3328 - mean_squared_error: 641.3328\n",
      "Epoch 6/10\n",
      "2808/2808 [==============================] - 0s 15us/step - loss: 633.0234 - mean_squared_error: 633.0234\n",
      "Epoch 7/10\n",
      "2808/2808 [==============================] - 0s 18us/step - loss: 642.1443 - mean_squared_error: 642.1443\n",
      "Epoch 8/10\n",
      "2808/2808 [==============================] - 0s 17us/step - loss: 633.3518 - mean_squared_error: 633.3518\n",
      "Epoch 9/10\n",
      "2808/2808 [==============================] - 0s 18us/step - loss: 632.4448 - mean_squared_error: 632.4448\n",
      "Epoch 10/10\n",
      "2808/2808 [==============================] - 0s 15us/step - loss: 613.5617 - mean_squared_error: 613.5617\n",
      "Iteration 1, Model 6\n",
      "Epoch 1/5\n",
      "2808/2808 [==============================] - 0s 143us/step - loss: 577223.3581 - mean_squared_error: 577223.3581\n",
      "Epoch 2/5\n",
      "2808/2808 [==============================] - 0s 96us/step - loss: 468902.7097 - mean_squared_error: 468902.7097\n",
      "Epoch 3/5\n",
      "2808/2808 [==============================] - 0s 101us/step - loss: 409881.3116 - mean_squared_error: 409881.3116\n",
      "Epoch 4/5\n",
      "2808/2808 [==============================] - 0s 107us/step - loss: 367316.9435 - mean_squared_error: 367316.94350s - loss: 375607.3586 - mean_squared_error: 37560\n",
      "Epoch 5/5\n",
      "2808/2808 [==============================] - 0s 102us/step - loss: 333927.4061 - mean_squared_error: 333927.4061\n",
      "Iteration 1, Model 7\n",
      "Epoch 1/6\n",
      "2808/2808 [==============================] - 0s 156us/step - loss: 123150.9807 - mean_squared_error: 123150.9807\n",
      "Epoch 2/6\n",
      "2808/2808 [==============================] - 0s 109us/step - loss: 108310.0951 - mean_squared_error: 108310.0951\n",
      "Epoch 3/6\n",
      "2808/2808 [==============================] - 0s 101us/step - loss: 94490.7762 - mean_squared_error: 94490.7762\n",
      "Epoch 4/6\n",
      "2808/2808 [==============================] - 0s 106us/step - loss: 81576.8292 - mean_squared_error: 81576.8292\n",
      "Epoch 5/6\n",
      "2808/2808 [==============================] - 0s 103us/step - loss: 70234.9624 - mean_squared_error: 70234.9624\n",
      "Epoch 6/6\n",
      "2808/2808 [==============================] - 0s 107us/step - loss: 60280.4348 - mean_squared_error: 60280.4348\n",
      "Iteration 1, Model 8\n",
      "Epoch 1/10\n",
      "2808/2808 [==============================] - 0s 153us/step - loss: 436042.4982 - mean_squared_error: 436042.4982\n",
      "Epoch 2/10\n",
      "2808/2808 [==============================] - 0s 106us/step - loss: 355923.0994 - mean_squared_error: 355923.0994\n",
      "Epoch 3/10\n",
      "2808/2808 [==============================] - 0s 104us/step - loss: 283539.5985 - mean_squared_error: 283539.5985\n",
      "Epoch 4/10\n",
      "2808/2808 [==============================] - 0s 105us/step - loss: 221112.2598 - mean_squared_error: 221112.2598\n",
      "Epoch 5/10\n",
      "2808/2808 [==============================] - 0s 105us/step - loss: 163294.1072 - mean_squared_error: 163294.1072\n",
      "Epoch 6/10\n",
      "2808/2808 [==============================] - 0s 105us/step - loss: 119232.3014 - mean_squared_error: 119232.3014\n",
      "Epoch 7/10\n",
      "2808/2808 [==============================] - 0s 101us/step - loss: 86725.5817 - mean_squared_error: 86725.5817\n",
      "Epoch 8/10\n",
      "2808/2808 [==============================] - 0s 107us/step - loss: 60870.0642 - mean_squared_error: 60870.06420s - loss: 65764.4182 - mean_squared_error: 65\n",
      "Epoch 9/10\n",
      "2808/2808 [==============================] - 0s 100us/step - loss: 41537.5100 - mean_squared_error: 41537.5100\n",
      "Epoch 10/10\n",
      "2808/2808 [==============================] - 0s 107us/step - loss: 27248.3274 - mean_squared_error: 27248.3274\n",
      "Iteration 1, Model 9\n",
      "Epoch 1/4\n",
      "2808/2808 [==============================] - 2s 820us/step - loss: 2494.3885 - mean_squared_error: 2494.3885\n",
      "Epoch 2/4\n",
      "2808/2808 [==============================] - 2s 796us/step - loss: 1726.6591 - mean_squared_error: 1726.6591\n",
      "Epoch 3/4\n",
      "2808/2808 [==============================] - 2s 767us/step - loss: 1700.1395 - mean_squared_error: 1700.1395\n",
      "Epoch 4/4\n",
      "2808/2808 [==============================] - 2s 756us/step - loss: 1676.4090 - mean_squared_error: 1676.4090\n",
      "Iteration 1, Model 10\n",
      "Epoch 1/10\n",
      "2808/2808 [==============================] - 0s 87us/step - loss: 23088.2361 - mean_squared_error: 23088.2361\n",
      "Epoch 2/10\n",
      "2808/2808 [==============================] - 0s 30us/step - loss: 1294.4523 - mean_squared_error: 1294.4523\n",
      "Epoch 3/10\n",
      "2808/2808 [==============================] - 0s 31us/step - loss: 1354.5741 - mean_squared_error: 1354.5741\n",
      "Epoch 4/10\n",
      "2808/2808 [==============================] - 0s 33us/step - loss: 1336.7661 - mean_squared_error: 1336.7661\n",
      "Epoch 5/10\n",
      "2808/2808 [==============================] - 0s 31us/step - loss: 1340.6564 - mean_squared_error: 1340.6564\n",
      "Epoch 6/10\n",
      "2808/2808 [==============================] - 0s 32us/step - loss: 1297.6719 - mean_squared_error: 1297.6719\n",
      "Epoch 7/10\n",
      "2808/2808 [==============================] - 0s 32us/step - loss: 1271.3925 - mean_squared_error: 1271.3925\n",
      "Epoch 8/10\n",
      "2808/2808 [==============================] - 0s 32us/step - loss: 1334.2756 - mean_squared_error: 1334.2756\n",
      "Epoch 9/10\n"
     ]
    },
    {
     "name": "stdout",
     "output_type": "stream",
     "text": [
      "2808/2808 [==============================] - 0s 33us/step - loss: 1262.4056 - mean_squared_error: 1262.4056\n",
      "Epoch 10/10\n",
      "2808/2808 [==============================] - 0s 29us/step - loss: 1319.5610 - mean_squared_error: 1319.5610\n",
      "Iteration 2, Model 1\n",
      "Epoch 1/4\n",
      "2808/2808 [==============================] - 1s 197us/step - loss: 458.5835 - mean_squared_error: 458.5835\n",
      "Epoch 2/4\n",
      "2808/2808 [==============================] - 0s 103us/step - loss: 457.6659 - mean_squared_error: 457.6659\n",
      "Epoch 3/4\n",
      "2808/2808 [==============================] - 0s 101us/step - loss: 457.5181 - mean_squared_error: 457.5181\n",
      "Epoch 4/4\n",
      "2808/2808 [==============================] - 0s 102us/step - loss: 457.1291 - mean_squared_error: 457.1291\n",
      "Iteration 2, Model 2\n",
      "Epoch 1/7\n",
      "2808/2808 [==============================] - 0s 99us/step - loss: 464.5542 - mean_squared_error: 464.5542\n",
      "Epoch 2/7\n",
      "2808/2808 [==============================] - 0s 102us/step - loss: 463.5007 - mean_squared_error: 463.5007\n",
      "Epoch 3/7\n",
      "2808/2808 [==============================] - 0s 103us/step - loss: 463.5873 - mean_squared_error: 463.5873\n",
      "Epoch 4/7\n",
      "2808/2808 [==============================] - 0s 99us/step - loss: 463.5596 - mean_squared_error: 463.5596\n",
      "Epoch 5/7\n",
      "2808/2808 [==============================] - 0s 97us/step - loss: 464.0198 - mean_squared_error: 464.0198\n",
      "Epoch 6/7\n",
      "2808/2808 [==============================] - 0s 94us/step - loss: 464.7196 - mean_squared_error: 464.7196\n",
      "Epoch 7/7\n",
      "2808/2808 [==============================] - 0s 94us/step - loss: 460.9027 - mean_squared_error: 460.9027\n",
      "Iteration 2, Model 3\n",
      "Epoch 1/7\n",
      "2808/2808 [==============================] - 0s 172us/step - loss: 156979.8744 - mean_squared_error: 156979.8744\n",
      "Epoch 2/7\n",
      "2808/2808 [==============================] - 0s 97us/step - loss: 10976.2712 - mean_squared_error: 10976.2712\n",
      "Epoch 3/7\n",
      "2808/2808 [==============================] - 0s 95us/step - loss: 909.0307 - mean_squared_error: 909.0307\n",
      "Epoch 4/7\n",
      "2808/2808 [==============================] - 0s 95us/step - loss: 551.8638 - mean_squared_error: 551.8638\n",
      "Epoch 5/7\n",
      "2808/2808 [==============================] - 0s 96us/step - loss: 547.3933 - mean_squared_error: 547.3933\n",
      "Epoch 6/7\n",
      "2808/2808 [==============================] - 0s 98us/step - loss: 546.4887 - mean_squared_error: 546.4887\n",
      "Epoch 7/7\n",
      "2808/2808 [==============================] - 0s 98us/step - loss: 544.4071 - mean_squared_error: 544.4071\n",
      "Iteration 2, Model 4\n",
      "Epoch 1/4\n",
      "2808/2808 [==============================] - 1s 193us/step - loss: 320779.4250 - mean_squared_error: 320779.4250\n",
      "Epoch 2/4\n",
      "2808/2808 [==============================] - 0s 103us/step - loss: 209882.5456 - mean_squared_error: 209882.5456\n",
      "Epoch 3/4\n",
      "2808/2808 [==============================] - 0s 106us/step - loss: 136095.9111 - mean_squared_error: 136095.9111\n",
      "Epoch 4/4\n",
      "2808/2808 [==============================] - 0s 101us/step - loss: 87791.5423 - mean_squared_error: 87791.5423\n",
      "Iteration 2, Model 5\n",
      "Epoch 1/7\n",
      "2808/2808 [==============================] - 1s 202us/step - loss: 247971.0010 - mean_squared_error: 247971.0010\n",
      "Epoch 2/7\n",
      "2808/2808 [==============================] - 0s 111us/step - loss: 224796.1921 - mean_squared_error: 224796.1921\n",
      "Epoch 3/7\n",
      "2808/2808 [==============================] - 0s 106us/step - loss: 204495.1466 - mean_squared_error: 204495.1466\n",
      "Epoch 4/7\n",
      "2808/2808 [==============================] - 0s 108us/step - loss: 186137.7495 - mean_squared_error: 186137.7495\n",
      "Epoch 5/7\n",
      "2808/2808 [==============================] - 0s 108us/step - loss: 170423.9932 - mean_squared_error: 170423.9932\n",
      "Epoch 6/7\n",
      "2808/2808 [==============================] - 0s 107us/step - loss: 156902.7495 - mean_squared_error: 156902.7495\n",
      "Epoch 7/7\n",
      "2808/2808 [==============================] - 0s 106us/step - loss: 144406.4370 - mean_squared_error: 144406.4370\n",
      "Iteration 2, Model 6\n",
      "Epoch 1/7\n",
      "2808/2808 [==============================] - 1s 208us/step - loss: 254622.0621 - mean_squared_error: 254622.0621\n",
      "Epoch 2/7\n",
      "2808/2808 [==============================] - 0s 107us/step - loss: 240808.3835 - mean_squared_error: 240808.3835\n",
      "Epoch 3/7\n",
      "2808/2808 [==============================] - 0s 105us/step - loss: 227446.6723 - mean_squared_error: 227446.6723\n",
      "Epoch 4/7\n",
      "2808/2808 [==============================] - 0s 112us/step - loss: 215080.6074 - mean_squared_error: 215080.6074\n",
      "Epoch 5/7\n",
      "2808/2808 [==============================] - 0s 109us/step - loss: 203619.6502 - mean_squared_error: 203619.6502\n",
      "Epoch 6/7\n",
      "2808/2808 [==============================] - 0s 107us/step - loss: 191720.3000 - mean_squared_error: 191720.3000\n",
      "Epoch 7/7\n",
      "2808/2808 [==============================] - 0s 111us/step - loss: 181131.4614 - mean_squared_error: 181131.4614\n",
      "Iteration 2, Model 7\n",
      "Epoch 1/4\n",
      "2808/2808 [==============================] - 1s 228us/step - loss: 267462.7661 - mean_squared_error: 267462.7661\n",
      "Epoch 2/4\n",
      "2808/2808 [==============================] - 0s 119us/step - loss: 264453.7826 - mean_squared_error: 264453.7826\n",
      "Epoch 3/4\n",
      "2808/2808 [==============================] - 0s 120us/step - loss: 261974.1516 - mean_squared_error: 261974.1516\n",
      "Epoch 4/4\n",
      "2808/2808 [==============================] - 0s 120us/step - loss: 259599.8793 - mean_squared_error: 259599.8793\n",
      "Iteration 2, Model 8\n",
      "Epoch 1/7\n",
      "2808/2808 [==============================] - 1s 222us/step - loss: 12843.9030 - mean_squared_error: 12843.9030\n",
      "Epoch 2/7\n",
      "2808/2808 [==============================] - 0s 109us/step - loss: 456.1379 - mean_squared_error: 456.1379\n",
      "Epoch 3/7\n",
      "2808/2808 [==============================] - 0s 109us/step - loss: 454.3750 - mean_squared_error: 454.3750\n",
      "Epoch 4/7\n",
      "2808/2808 [==============================] - 0s 151us/step - loss: 460.5423 - mean_squared_error: 460.5423\n",
      "Epoch 5/7\n",
      "2808/2808 [==============================] - 0s 125us/step - loss: 471.8519 - mean_squared_error: 471.8519\n",
      "Epoch 6/7\n",
      "2808/2808 [==============================] - 0s 116us/step - loss: 468.4183 - mean_squared_error: 468.4183\n",
      "Epoch 7/7\n",
      "2808/2808 [==============================] - 0s 109us/step - loss: 459.8638 - mean_squared_error: 459.8638\n",
      "Iteration 2, Model 9\n",
      "Epoch 1/7\n",
      "2808/2808 [==============================] - 1s 232us/step - loss: 12370.6720 - mean_squared_error: 12370.6720\n",
      "Epoch 2/7\n",
      "2808/2808 [==============================] - 0s 114us/step - loss: 499.3299 - mean_squared_error: 499.3299\n",
      "Epoch 3/7\n",
      "2808/2808 [==============================] - 0s 114us/step - loss: 500.5210 - mean_squared_error: 500.5210\n",
      "Epoch 4/7\n",
      "2808/2808 [==============================] - 0s 113us/step - loss: 482.8328 - mean_squared_error: 482.8328\n",
      "Epoch 5/7\n",
      "2808/2808 [==============================] - 0s 115us/step - loss: 492.8995 - mean_squared_error: 492.8995\n",
      "Epoch 6/7\n",
      "2808/2808 [==============================] - 0s 114us/step - loss: 488.8897 - mean_squared_error: 488.8897\n",
      "Epoch 7/7\n",
      "2808/2808 [==============================] - 0s 114us/step - loss: 493.6765 - mean_squared_error: 493.6765\n",
      "Iteration 2, Model 10\n",
      "Epoch 1/4\n",
      "2808/2808 [==============================] - 1s 218us/step - loss: 451437.4689 - mean_squared_error: 451437.4689\n",
      "Epoch 2/4\n",
      "2808/2808 [==============================] - 0s 111us/step - loss: 282951.2867 - mean_squared_error: 282951.2867\n",
      "Epoch 3/4\n",
      "2808/2808 [==============================] - 0s 106us/step - loss: 172241.7342 - mean_squared_error: 172241.7342\n",
      "Epoch 4/4\n",
      "2808/2808 [==============================] - 0s 109us/step - loss: 100546.0605 - mean_squared_error: 100546.0605\n"
     ]
    }
   ],
   "source": [
    "for i in range(iterations):\n",
    "    errors = []\n",
    "\n",
    "    for model_idx, model in enumerate(models):\n",
    "        print(\"Iteration {0}, Model {1}\".format(i + 1, model_idx + 1))\n",
    "        \n",
    "        # prepare the data\n",
    "        x, y = build_dataset(model.input_options, model.model_options[\"predict_n\"], True)\n",
    "        # split the data into training set and testing set\n",
    "        x_train, x_test, y_train, y_test = train_test_split(x, y, test_size=0.2)\n",
    "        # train the model\n",
    "        model.train(x_train, y_train)\n",
    "        # calculate the model error\n",
    "        y_predict = model.predict(x_test)\n",
    "        errors.append(model.error(y_test, y_predict))\n",
    "\n",
    "    # select top models\n",
    "    error_idx_sorted = np.argsort(errors)\n",
    "    top_models = [models[i] for i in error_idx_sorted[:2]]\n",
    "\n",
    "    # cross-over models and breed new models\n",
    "    if i < iterations - 1:\n",
    "        models = ModelClass.evolve(top_models, 10)"
   ]
  },
  {
   "cell_type": "code",
   "execution_count": 9,
   "metadata": {},
   "outputs": [
    {
     "name": "stdout",
     "output_type": "stream",
     "text": [
      "{'net': {'layers': [{}], 'loss': 'mse', 'optimizer': 'Adam', 'learning_rate': 0.001, 'epochs': 7, 'batch_size': 8, 'metrics': ['mse'], 'evaluation_criteria': {'minimize': False, 'threshold': 6.316257264046689}}, 'predict_n': 10}\n"
     ]
    }
   ],
   "source": [
    "best_model_idx = np.argmin(errors)\n",
    "best_model = models[best_model_idx]\n",
    "print(best_model.model_options)"
   ]
  },
  {
   "cell_type": "code",
   "execution_count": 10,
   "metadata": {},
   "outputs": [],
   "source": [
    "import pandas as pd"
   ]
  },
  {
   "cell_type": "code",
   "execution_count": 11,
   "metadata": {},
   "outputs": [],
   "source": [
    "import matplotlib.pyplot as plt"
   ]
  },
  {
   "cell_type": "code",
   "execution_count": 12,
   "metadata": {},
   "outputs": [
    {
     "data": {
      "text/plain": [
       "[<matplotlib.lines.Line2D at 0x25221a1c400>]"
      ]
     },
     "execution_count": 12,
     "metadata": {},
     "output_type": "execute_result"
    },
    {
     "data": {
      "image/png": "[encoded data removed]",
      "text/plain": [
       "<Figure size 432x288 with 1 Axes>"
      ]
     },
     "metadata": {},
     "output_type": "display_data"
    }
   ],
   "source": [
    "stock_prices = pd.read_csv(\"./data/stock_prices/\" + model.stock_code + \".csv\", index_col=0)[\"adjusted_close\"].values[::-1]\n",
    "stock_prices = stock_prices[-90:]\n",
    "x = build_dataset(best_model.input_options, best_model.model_options[\"predict_n\"], False)\n",
    "prediction = best_model.predict(x)\n",
    "plt.plot(np.arange(len(stock_prices)), stock_prices)\n",
    "plt.plot(np.arange(len(stock_prices), len(stock_prices) + len(prediction)), prediction)"
   ]
  },
  {
   "cell_type": "code",
   "execution_count": null,
   "metadata": {},
   "outputs": [],
   "source": []
  }
 ],
 "metadata": {
  "kernelspec": {
   "display_name": "Python 3",
   "language": "python",
   "name": "python3"
  },
  "language_info": {
   "codemirror_mode": {
    "name": "ipython",
    "version": 3
   },
   "file_extension": ".py",
   "mimetype": "text/x-python",
   "name": "python",
   "nbconvert_exporter": "python",
   "pygments_lexer": "ipython3",
   "version": "3.6.5"
  }
 },
 "nbformat": 4,
 "nbformat_minor": 2
}
