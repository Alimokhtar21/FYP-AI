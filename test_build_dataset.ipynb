{
 "cells": [
  {
   "cell_type": "code",
   "execution_count": 1,
   "metadata": {},
   "outputs": [],
   "source": [
    "from build_dataset import build_dataset\n",
    "import pandas as pd\n",
    "import numpy as np"
   ]
  },
  {
   "cell_type": "code",
   "execution_count": 2,
   "metadata": {},
   "outputs": [],
   "source": [
    "input_options = {\n",
    "    \"config\": [\n",
    "        {\"type\": \"lookback\", \"n\": 10, \"stock_code\": \"GOOGL\", \"column\": \"adjusted_close\"},\n",
    "        {\"type\": \"moving_avg\", \"n\": 10, \"stock_code\": \"GOOGL\", \"column\": \"adjusted_close\"}\n",
    "    ],\n",
    "    \"stock_codes\": [\"GOOGL\"],\n",
    "    \"stock_code\": \"GOOGL\",\n",
    "    \"column\": \"adjusted_close\"\n",
    "}"
   ]
  },
  {
   "cell_type": "code",
   "execution_count": 3,
   "metadata": {},
   "outputs": [],
   "source": [
    "predict_n = 1\n",
    "training = False\n",
    "stock_data = pd.read_csv('data/stock_prices/GOOGL.csv', index_col='timestamp').iloc[::-1]\n",
    "stock_data = {\n",
    "    'GOOGL': stock_data\n",
    "}"
   ]
  },
  {
   "cell_type": "code",
   "execution_count": 4,
   "metadata": {},
   "outputs": [
    {
     "name": "stdout",
     "output_type": "stream",
     "text": [
      "Before: \n",
      "(array([[  50.3228 ,   54.3227 ,   54.8694 , ...,   51.3435 ,   50.2802 ,\n",
      "          52.54244],\n",
      "       [  54.3227 ,   54.8694 ,   52.5974 , ...,   50.2802 ,   50.9122 ,\n",
      "          52.60138],\n",
      "       [  54.8694 ,   52.5974 ,   53.1641 , ...,   50.9122 ,   50.1598 ,\n",
      "          52.18509],\n",
      "       ...,\n",
      "       [1252.89   , 1230.04   , 1227.22   , ..., 1261.33   , 1264.46   ,\n",
      "        1244.173  ],\n",
      "       [1230.04   , 1227.22   , 1232.99   , ..., 1264.46   , 1252.51   ,\n",
      "        1244.135  ],\n",
      "       [1227.22   , 1232.99   , 1241.13   , ..., 1252.51   , 1248.64   ,\n",
      "        1245.995  ]]), array([[  50.9122],\n",
      "       [  50.1598],\n",
      "       [  50.9473],\n",
      "       ...,\n",
      "       [1252.51  ],\n",
      "       [1248.64  ],\n",
      "       [1258.14  ]]))\n"
     ]
    }
   ],
   "source": [
    "mock_result = np.array([ 1100, 1120 ])\n",
    "\n",
    "x = build_dataset(input_options, predict_n, training=True, stock_data=stock_data)\n",
    "print(\"Before: \")\n",
    "print(x)"
   ]
  },
  {
   "cell_type": "code",
   "execution_count": 5,
   "metadata": {},
   "outputs": [
    {
     "name": "stdout",
     "output_type": "stream",
     "text": [
      "After: \n",
      "(array([[1073.73 , 1073.54 , 1051.71 , 1025.65 , 1043.41 , 1035.46 ,\n",
      "        1023.58 ,  991.25 ,  984.67 , 1047.85 , 1035.085],\n",
      "       [1073.54 , 1051.71 , 1025.65 , 1043.41 , 1035.46 , 1023.58 ,\n",
      "         991.25 ,  984.67 , 1047.85 , 1052.9  , 1033.002],\n",
      "       [1051.71 , 1025.65 , 1043.41 , 1035.46 , 1023.58 ,  991.25 ,\n",
      "         984.67 , 1047.85 , 1052.9  , 1046.68 , 1030.316],\n",
      "       [1025.65 , 1043.41 , 1035.46 , 1023.58 ,  991.25 ,  984.67 ,\n",
      "        1047.85 , 1052.9  , 1046.68 , 1044.96 , 1029.641],\n",
      "       [1043.41 , 1035.46 , 1023.58 ,  991.25 ,  984.67 , 1047.85 ,\n",
      "        1052.9  , 1046.68 , 1044.96 , 1054.68 , 1032.544],\n",
      "       [1035.46 , 1023.58 ,  991.25 ,  984.67 , 1047.85 , 1052.9  ,\n",
      "        1046.68 , 1044.96 , 1054.68 , 1025.47 , 1030.75 ],\n",
      "       [1023.58 ,  991.25 ,  984.67 , 1047.85 , 1052.9  , 1046.68 ,\n",
      "        1044.96 , 1054.68 , 1025.47 , 1078.07 , 1035.011],\n",
      "       [ 991.25 ,  984.67 , 1047.85 , 1052.9  , 1046.68 , 1044.96 ,\n",
      "        1054.68 , 1025.47 , 1078.07 , 1075.92 , 1040.245],\n",
      "       [ 984.67 , 1047.85 , 1052.9  , 1046.68 , 1044.96 , 1054.68 ,\n",
      "        1025.47 , 1078.07 , 1075.92 , 1085.37 , 1049.657],\n",
      "       [1047.85 , 1052.9  , 1046.68 , 1044.96 , 1054.68 , 1025.47 ,\n",
      "        1078.07 , 1075.92 , 1085.37 , 1100.   , 1061.19 ],\n",
      "       [1052.9  , 1046.68 , 1044.96 , 1054.68 , 1025.47 , 1078.07 ,\n",
      "        1075.92 , 1085.37 , 1100.   , 1120.   , 1068.405]]), array([[1052.9 ],\n",
      "       [1046.68],\n",
      "       [1044.96],\n",
      "       [1054.68],\n",
      "       [1025.47],\n",
      "       [1078.07],\n",
      "       [1075.92],\n",
      "       [1085.37],\n",
      "       [1100.  ],\n",
      "       [1120.  ]]), array([[1232.99 , 1241.13 , 1238.16 , ..., 1248.64 , 1258.14 , 1249.087],\n",
      "       [1241.13 , 1238.16 , 1237.67 , ..., 1258.14 , 1232.22 , 1249.01 ],\n",
      "       [1238.16 , 1237.67 , 1255.84 , ..., 1232.22 , 1224.06 , 1247.303],\n",
      "       ...,\n",
      "       [1035.46 , 1023.58 ,  991.25 , ..., 1054.68 , 1025.47 , 1030.75 ],\n",
      "       [1023.58 ,  991.25 ,  984.67 , ..., 1025.47 , 1078.07 , 1035.011],\n",
      "       [ 991.25 ,  984.67 , 1047.85 , ..., 1078.07 , 1075.92 , 1040.245]]))\n"
     ]
    },
    {
     "name": "stderr",
     "output_type": "stream",
     "text": [
      "/home/cameron/fyp/venv/lib/python3.6/site-packages/pandas/core/frame.py:6211: FutureWarning: Sorting because non-concatenation axis is not aligned. A future version\n",
      "of pandas will change to not sort by default.\n",
      "\n",
      "To accept the future behavior, pass 'sort=False'.\n",
      "\n",
      "To retain the current behavior and silence the warning, pass 'sort=True'.\n",
      "\n",
      "  sort=sort)\n"
     ]
    }
   ],
   "source": [
    "x = build_dataset(input_options, predict_n, training=False, stock_data=stock_data, previous=mock_result)\n",
    "print(\"After: \")\n",
    "print(x)"
   ]
  },
  {
   "cell_type": "code",
   "execution_count": null,
   "metadata": {},
   "outputs": [],
   "source": []
  }
 ],
 "metadata": {
  "kernelspec": {
   "display_name": "fyp",
   "language": "python",
   "name": "fyp"
  },
  "language_info": {
   "codemirror_mode": {
    "name": "ipython",
    "version": 3
   },
   "file_extension": ".py",
   "mimetype": "text/x-python",
   "name": "python",
   "nbconvert_exporter": "python",
   "pygments_lexer": "ipython3",
   "version": "3.6.7"
  }
 },
 "nbformat": 4,
 "nbformat_minor": 2
}
